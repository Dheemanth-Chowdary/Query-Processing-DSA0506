{
  "nbformat": 4,
  "nbformat_minor": 0,
  "metadata": {
    "colab": {
      "provenance": [],
      "include_colab_link": true
    },
    "kernelspec": {
      "name": "python3",
      "display_name": "Python 3"
    },
    "language_info": {
      "name": "python"
    }
  },
  "cells": [
    {
      "cell_type": "markdown",
      "metadata": {
        "id": "view-in-github",
        "colab_type": "text"
      },
      "source": [
        "<a href=\"https://colab.research.google.com/github/Dheemanth-Chowdary/Query-Processing-DSA0506/blob/main/Analytical_March_1_(Day_1).ipynb\" target=\"_parent\"><img src=\"https://colab.research.google.com/assets/colab-badge.svg\" alt=\"Open In Colab\"/></a>"
      ]
    },
    {
      "cell_type": "code",
      "execution_count": null,
      "metadata": {
        "colab": {
          "base_uri": "https://localhost:8080/"
        },
        "id": "MAs5FKYw_Bno",
        "outputId": "d35d72ea-12f2-4899-9620-fdaff122164a"
      },
      "outputs": [
        {
          "output_type": "stream",
          "name": "stdout",
          "text": [
            "0    10\n",
            "1    20\n",
            "2    30\n",
            "3    40\n",
            "4    50\n",
            "dtype: int64\n"
          ]
        }
      ],
      "source": [
        "#1\n",
        "import pandas as pd\n",
        "\n",
        "data = pd.Series([10, 20, 30, 40, 50])\n",
        "\n",
        "print(data)\n"
      ]
    },
    {
      "cell_type": "code",
      "source": [
        "#2\n",
        "import pandas as pd\n",
        "\n",
        "data = pd.Series([10, 20, 30, 40, 50])\n",
        "\n",
        "data_list = data.tolist()\n",
        "\n",
        "print(\"Converted list:\", data_list)\n",
        "print(\"Type of the converted list:\", type(data_list))\n"
      ],
      "metadata": {
        "colab": {
          "base_uri": "https://localhost:8080/"
        },
        "id": "cVI220QCBcZg",
        "outputId": "11422b78-62fe-4cad-efee-1f9d57d15736"
      },
      "execution_count": null,
      "outputs": [
        {
          "output_type": "stream",
          "name": "stdout",
          "text": [
            "Converted list: [10, 20, 30, 40, 50]\n",
            "Type of the converted list: <class 'list'>\n"
          ]
        }
      ]
    },
    {
      "cell_type": "code",
      "source": [
        "#3\n",
        "import pandas as pd\n",
        "\n",
        "series1 = pd.Series([2, 4, 6, 8, 10])\n",
        "series2 = pd.Series([1, 3, 5, 7, 9])\n",
        "\n",
        "addition_result = series1 + series2\n",
        "\n",
        "subtraction_result = series1 - series2\n",
        "\n",
        "multiplication_result = series1 * series2\n",
        "\n",
        "division_result = series1 / series2\n",
        "\n",
        "print(\"Addition:\")\n",
        "print(addition_result)\n",
        "print(\"\\nSubtraction:\")\n",
        "print(subtraction_result)\n",
        "print(\"\\nMultiplication:\")\n",
        "print(multiplication_result)\n",
        "print(\"\\nDivision:\")\n",
        "print(division_result)"
      ],
      "metadata": {
        "colab": {
          "base_uri": "https://localhost:8080/"
        },
        "id": "8RgDGjhTEEYY",
        "outputId": "b89715e9-93fa-4844-eb3f-413679551026"
      },
      "execution_count": null,
      "outputs": [
        {
          "output_type": "stream",
          "name": "stdout",
          "text": [
            "Addition:\n",
            "0     3\n",
            "1     7\n",
            "2    11\n",
            "3    15\n",
            "4    19\n",
            "dtype: int64\n",
            "\n",
            "Subtraction:\n",
            "0    1\n",
            "1    1\n",
            "2    1\n",
            "3    1\n",
            "4    1\n",
            "dtype: int64\n",
            "\n",
            "Multiplication:\n",
            "0     2\n",
            "1    12\n",
            "2    30\n",
            "3    56\n",
            "4    90\n",
            "dtype: int64\n",
            "\n",
            "Division:\n",
            "0    2.000000\n",
            "1    1.333333\n",
            "2    1.200000\n",
            "3    1.142857\n",
            "4    1.111111\n",
            "dtype: float64\n"
          ]
        }
      ]
    },
    {
      "cell_type": "code",
      "source": [
        "#4\n",
        "import pandas as pd\n",
        "\n",
        "series1 = pd.Series([2, 4, 6, 8, 10])\n",
        "series2 = pd.Series([1, 3, 5, 7, 10])\n",
        "\n",
        "comparison_result = series1 == series2\n",
        "\n",
        "print(\"Comparison Result:\")\n",
        "print(comparison_result)"
      ],
      "metadata": {
        "colab": {
          "base_uri": "https://localhost:8080/"
        },
        "id": "RUeA6NXhEWIy",
        "outputId": "954e4846-6dfc-42e6-8710-358ff1481356"
      },
      "execution_count": null,
      "outputs": [
        {
          "output_type": "stream",
          "name": "stdout",
          "text": [
            "Comparison Result:\n",
            "0    False\n",
            "1    False\n",
            "2    False\n",
            "3    False\n",
            "4     True\n",
            "dtype: bool\n"
          ]
        }
      ]
    },
    {
      "cell_type": "code",
      "source": [
        "#5\n",
        "import pandas as pd\n",
        "\n",
        "original_dict = {'a': 100, 'b': 200, 'c': 300, 'd': 400, 'e': 800}\n",
        "\n",
        "converted_series = pd.Series(original_dict)\n",
        "\n",
        "print(\"Converted series:\")\n",
        "print(converted_series)\n"
      ],
      "metadata": {
        "colab": {
          "base_uri": "https://localhost:8080/"
        },
        "id": "LJbhxpj6FV_t",
        "outputId": "95909eb7-6ead-4b79-caaf-9c0f65c8fed5"
      },
      "execution_count": null,
      "outputs": [
        {
          "output_type": "stream",
          "name": "stdout",
          "text": [
            "Converted series:\n",
            "a    100\n",
            "b    200\n",
            "c    300\n",
            "d    400\n",
            "e    800\n",
            "dtype: int64\n"
          ]
        }
      ]
    },
    {
      "cell_type": "code",
      "source": [
        "#6\n",
        "import pandas as pd\n",
        "import numpy as np\n",
        "\n",
        "numpy_array = np.array([10, 20, 30, 40, 50])\n",
        "\n",
        "converted_series = pd.Series(numpy_array)\n",
        "\n",
        "print(\"Converted Pandas series:\")\n",
        "print(converted_series)"
      ],
      "metadata": {
        "colab": {
          "base_uri": "https://localhost:8080/"
        },
        "id": "H0QILWRTFxVZ",
        "outputId": "ef8fdb9c-8a87-496a-9dbd-4a5114507ffd"
      },
      "execution_count": null,
      "outputs": [
        {
          "output_type": "stream",
          "name": "stdout",
          "text": [
            "Converted Pandas series:\n",
            "0    10\n",
            "1    20\n",
            "2    30\n",
            "3    40\n",
            "4    50\n",
            "dtype: int64\n"
          ]
        }
      ]
    },
    {
      "cell_type": "code",
      "source": [
        "#7\n",
        "import pandas as pd\n",
        "\n",
        "original_series = pd.Series(['100', '200', 'python', '300.12', '400'])\n",
        "\n",
        "converted_series = pd.to_numeric(original_series, errors='coerce')\n",
        "\n",
        "print(\"Original Data Series:\")\n",
        "print(original_series)\n",
        "print(\"\\nChange the said data type to numeric:\")\n",
        "print(converted_series)\n"
      ],
      "metadata": {
        "colab": {
          "base_uri": "https://localhost:8080/"
        },
        "id": "IbshTRkkGH6H",
        "outputId": "7a2dd811-cc57-40d2-e4f5-c7699ce92e1a"
      },
      "execution_count": null,
      "outputs": [
        {
          "output_type": "stream",
          "name": "stdout",
          "text": [
            "Original Data Series:\n",
            "0       100\n",
            "1       200\n",
            "2    python\n",
            "3    300.12\n",
            "4       400\n",
            "dtype: object\n",
            "\n",
            "Change the said data type to numeric:\n",
            "0    100.00\n",
            "1    200.00\n",
            "2       NaN\n",
            "3    300.12\n",
            "4    400.00\n",
            "dtype: float64\n"
          ]
        }
      ]
    },
    {
      "cell_type": "code",
      "source": [
        "#8\n",
        "import pandas as pd\n",
        "\n",
        "data = {\n",
        "    'col1': [1, 2, 3, 4, 7, 11],\n",
        "    'col2': [4, 5, 6, 9, 5, 0],\n",
        "    'col3': [7, 5, 8, 12, 1, 11]\n",
        "}\n",
        "\n",
        "df = pd.DataFrame(data)\n",
        "\n",
        "first_column_series = df.iloc[:, 0]\n",
        "\n",
        "print(\"Original DataFrame:\")\n",
        "print(df)\n",
        "print(\"\\n1st column as a Series:\")\n",
        "print(first_column_series)\n"
      ],
      "metadata": {
        "colab": {
          "base_uri": "https://localhost:8080/"
        },
        "id": "tNCv9cX3GNcj",
        "outputId": "b7b9d395-d283-435e-f10e-4635234b08bb"
      },
      "execution_count": null,
      "outputs": [
        {
          "output_type": "stream",
          "name": "stdout",
          "text": [
            "Original DataFrame:\n",
            "   col1  col2  col3\n",
            "0     1     4     7\n",
            "1     2     5     5\n",
            "2     3     6     8\n",
            "3     4     9    12\n",
            "4     7     5     1\n",
            "5    11     0    11\n",
            "\n",
            "1st column as a Series:\n",
            "0     1\n",
            "1     2\n",
            "2     3\n",
            "3     4\n",
            "4     7\n",
            "5    11\n",
            "Name: col1, dtype: int64\n"
          ]
        }
      ]
    },
    {
      "cell_type": "code",
      "source": [
        "#9\n",
        "import pandas as pd\n",
        "\n",
        "original_series = pd.Series(['100', '200', 'python', '300.12', '400'])\n",
        "\n",
        "array_from_series = original_series.values\n",
        "\n",
        "print(\"Original Data Series:\")\n",
        "print(original_series)\n",
        "print(\"\\nSeries to an array:\")\n",
        "print(array_from_series)\n",
        "print(type(array_from_series))\n"
      ],
      "metadata": {
        "colab": {
          "base_uri": "https://localhost:8080/"
        },
        "id": "TTYnaExfHlYU",
        "outputId": "9bd60ca0-a676-42d5-b68e-adbc0faaad7c"
      },
      "execution_count": null,
      "outputs": [
        {
          "output_type": "stream",
          "name": "stdout",
          "text": [
            "Original Data Series:\n",
            "0       100\n",
            "1       200\n",
            "2    python\n",
            "3    300.12\n",
            "4       400\n",
            "dtype: object\n",
            "\n",
            "Series to an array:\n",
            "['100' '200' 'python' '300.12' '400']\n",
            "<class 'numpy.ndarray'>\n"
          ]
        }
      ]
    },
    {
      "cell_type": "code",
      "source": [
        "#10\n",
        "import pandas as pd\n",
        "\n",
        "original_series = pd.Series([['Red', 'Green', 'White'], ['Red', 'Black'], ['Yellow']])\n",
        "\n",
        "one_series = original_series.explode()\n",
        "\n",
        "print(\"Original Series of list:\")\n",
        "print(original_series)\n",
        "print(\"\\nOne Series:\")\n",
        "print(one_series)\n"
      ],
      "metadata": {
        "colab": {
          "base_uri": "https://localhost:8080/"
        },
        "id": "q93ZGmbHHvOv",
        "outputId": "7065fceb-415c-4990-f56b-5b6075380e7d"
      },
      "execution_count": null,
      "outputs": [
        {
          "output_type": "stream",
          "name": "stdout",
          "text": [
            "Original Series of list:\n",
            "0    [Red, Green, White]\n",
            "1           [Red, Black]\n",
            "2               [Yellow]\n",
            "dtype: object\n",
            "\n",
            "One Series:\n",
            "0       Red\n",
            "0     Green\n",
            "0     White\n",
            "1       Red\n",
            "1     Black\n",
            "2    Yellow\n",
            "dtype: object\n"
          ]
        }
      ]
    }
  ]
}