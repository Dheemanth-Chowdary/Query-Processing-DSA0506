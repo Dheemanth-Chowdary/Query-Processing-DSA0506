{
  "nbformat": 4,
  "nbformat_minor": 0,
  "metadata": {
    "colab": {
      "provenance": [],
      "authorship_tag": "ABX9TyN3vAqtSDyxvFI7Qd1g0Rf8",
      "include_colab_link": true
    },
    "kernelspec": {
      "name": "python3",
      "display_name": "Python 3"
    },
    "language_info": {
      "name": "python"
    }
  },
  "cells": [
    {
      "cell_type": "markdown",
      "metadata": {
        "id": "view-in-github",
        "colab_type": "text"
      },
      "source": [
        "<a href=\"https://colab.research.google.com/github/Dheemanth-Chowdary/Query-Processing-DSA0506/blob/main/Analytical_March_4(Day_3).ipynb\" target=\"_parent\"><img src=\"https://colab.research.google.com/assets/colab-badge.svg\" alt=\"Open In Colab\"/></a>"
      ]
    },
    {
      "cell_type": "code",
      "execution_count": 1,
      "metadata": {
        "colab": {
          "base_uri": "https://localhost:8080/"
        },
        "id": "OLTEbReqbrAO",
        "outputId": "b81dcb37-d250-4f80-8e31-2b0adb7ea0a9"
      },
      "outputs": [
        {
          "output_type": "stream",
          "name": "stdout",
          "text": [
            "Original DataFrame:\n",
            "   A   B   C\n",
            "0  1   6  11\n",
            "1  2   7  12\n",
            "2  3   8  13\n",
            "3  4   9  14\n",
            "4  5  10  15\n",
            "\n",
            "DataFrame after replacement:\n",
            "    A   B    C\n",
            "0   1   6   11\n",
            "1  20  70   12\n",
            "2   3   8  130\n",
            "3   4   9   14\n",
            "4   5  10   15\n"
          ]
        }
      ],
      "source": [
        "#1\n",
        "import pandas as pd\n",
        "\n",
        "data = {'A': [1, 2, 3, 4, 5],\n",
        "        'B': [6, 7, 8, 9, 10],\n",
        "        'C': [11, 12, 13, 14, 15]}\n",
        "df = pd.DataFrame(data)\n",
        "\n",
        "print(\"Original DataFrame:\")\n",
        "print(df)\n",
        "\n",
        "replacement_dict = {2: 20, 7: 70, 13: 130}\n",
        "df.replace(replacement_dict, inplace=True)\n",
        "\n",
        "print(\"\\nDataFrame after replacement:\")\n",
        "print(df)\n"
      ]
    },
    {
      "cell_type": "code",
      "source": [
        "#2\n",
        "import pandas as pd\n",
        "\n",
        "data = {'A': [1, 2, 3, 4, 5],\n",
        "        'B': [6, 7, 8, 9, 10],\n",
        "        'C': [11, 12, 13, 14, 15]}\n",
        "df = pd.DataFrame(data)\n",
        "\n",
        "print(\"Original DataFrame:\")\n",
        "print(df)\n",
        "\n",
        "replacement_dict = {2: 20, 7: 70, 13: 130}\n",
        "replacement_dict_column = {'A': {3: 30, 5: 50}, 'C': {11: 110, 15: 150}}\n",
        "\n",
        "df.replace(replacement_dict, inplace=True)\n",
        "df.replace(replacement_dict_column, inplace=True)\n",
        "\n",
        "print(\"\\nDataFrame after replacement:\")\n",
        "print(df)\n"
      ],
      "metadata": {
        "colab": {
          "base_uri": "https://localhost:8080/"
        },
        "id": "AlrQjIwRb77p",
        "outputId": "ad6bc156-13c2-4259-aac5-26e2b38d6ea1"
      },
      "execution_count": 2,
      "outputs": [
        {
          "output_type": "stream",
          "name": "stdout",
          "text": [
            "Original DataFrame:\n",
            "   A   B   C\n",
            "0  1   6  11\n",
            "1  2   7  12\n",
            "2  3   8  13\n",
            "3  4   9  14\n",
            "4  5  10  15\n",
            "\n",
            "DataFrame after replacement:\n",
            "    A   B    C\n",
            "0   1   6  110\n",
            "1  20  70   12\n",
            "2  30   8  130\n",
            "3   4   9   14\n",
            "4  50  10  150\n"
          ]
        }
      ]
    },
    {
      "cell_type": "code",
      "source": [
        "#3\n",
        "import pandas as pd\n",
        "\n",
        "data = {'Name': ['John Doe', 'Jane Smith', 'Bob Johnson'],\n",
        "        'Age': [30, 25, 35],\n",
        "        'Address': ['123 Main St, City1', '456 Elm St, City2', '789 Oak St, City3']}\n",
        "df = pd.DataFrame(data)\n",
        "\n",
        "print(\"Original DataFrame:\")\n",
        "print(df)\n",
        "\n",
        "df[['Street', 'City']] = df['Address'].str.split(', ', expand=True)\n",
        "\n",
        "df.drop(columns=['Address'], inplace=True)\n",
        "\n",
        "print(\"\\nDataFrame after splitting 'Address' column:\")\n",
        "print(df)\n"
      ],
      "metadata": {
        "colab": {
          "base_uri": "https://localhost:8080/"
        },
        "id": "yBHKbqcYb-y7",
        "outputId": "e2beef68-f687-45e8-ba3c-6921daeeb80d"
      },
      "execution_count": 3,
      "outputs": [
        {
          "output_type": "stream",
          "name": "stdout",
          "text": [
            "Original DataFrame:\n",
            "          Name  Age             Address\n",
            "0     John Doe   30  123 Main St, City1\n",
            "1   Jane Smith   25   456 Elm St, City2\n",
            "2  Bob Johnson   35   789 Oak St, City3\n",
            "\n",
            "DataFrame after splitting 'Address' column:\n",
            "          Name  Age       Street   City\n",
            "0     John Doe   30  123 Main St  City1\n",
            "1   Jane Smith   25   456 Elm St  City2\n",
            "2  Bob Johnson   35   789 Oak St  City3\n"
          ]
        }
      ]
    },
    {
      "cell_type": "code",
      "source": [
        "#4\n",
        "import pandas as pd\n",
        "import re\n",
        "\n",
        "data = {'Name': ['John Doe', 'Jane Smith', 'Bob Johnson'],\n",
        "        'Email': ['john.doe@example.com', 'jane.smith@example.com', 'bob.johnson@example.com']}\n",
        "df = pd.DataFrame(data)\n",
        "\n",
        "print(\"Original DataFrame:\")\n",
        "print(df)\n",
        "\n",
        "def extract_email(text):\n",
        "    pattern = r'\\b[A-Za-z0-9._%+-]+@[A-Za-z0-9.-]+\\.[A-Z|a-z]{2,}\\b'\n",
        "    emails = re.findall(pattern, text)\n",
        "    if emails:\n",
        "        return emails[0]\n",
        "    else:\n",
        "        return None\n",
        "\n",
        "df['Extracted Email'] = df['Email'].apply(extract_email)\n",
        "\n",
        "print(\"\\nDataFrame with extracted emails:\")\n",
        "print(df)\n"
      ],
      "metadata": {
        "colab": {
          "base_uri": "https://localhost:8080/"
        },
        "id": "YMdrG0emcF5X",
        "outputId": "d52bfe34-128c-47b5-a7f8-d8efb4f44093"
      },
      "execution_count": 4,
      "outputs": [
        {
          "output_type": "stream",
          "name": "stdout",
          "text": [
            "Original DataFrame:\n",
            "          Name                    Email\n",
            "0     John Doe     john.doe@example.com\n",
            "1   Jane Smith   jane.smith@example.com\n",
            "2  Bob Johnson  bob.johnson@example.com\n",
            "\n",
            "DataFrame with extracted emails:\n",
            "          Name                    Email          Extracted Email\n",
            "0     John Doe     john.doe@example.com     john.doe@example.com\n",
            "1   Jane Smith   jane.smith@example.com   jane.smith@example.com\n",
            "2  Bob Johnson  bob.johnson@example.com  bob.johnson@example.com\n"
          ]
        }
      ]
    },
    {
      "cell_type": "code",
      "source": [
        "#5\n",
        "import pandas as pd\n",
        "import re\n",
        "\n",
        "data = {'Tweet': ['Excited to visit #NewYork next week! #travel',\n",
        "                  'Just finished reading #Python programming book',\n",
        "                  'Loving the #sunny weather today',\n",
        "                  'Looking forward to the #weekend']}\n",
        "df = pd.DataFrame(data)\n",
        "\n",
        "print(\"Original DataFrame:\")\n",
        "print(df)\n",
        "\n",
        "def extract_hashtags(text):\n",
        "    hashtags = re.findall(r'#(\\w+)', text)\n",
        "    return hashtags\n",
        "\n",
        "df['Hashtags'] = df['Tweet'].apply(extract_hashtags)\n",
        "\n",
        "print(\"\\nDataFrame with extracted hashtags:\")\n",
        "print(df)\n"
      ],
      "metadata": {
        "colab": {
          "base_uri": "https://localhost:8080/"
        },
        "id": "oE0wgZc_dyjm",
        "outputId": "a472a38d-60f2-408e-c004-03cf6b044b49"
      },
      "execution_count": 5,
      "outputs": [
        {
          "output_type": "stream",
          "name": "stdout",
          "text": [
            "Original DataFrame:\n",
            "                                            Tweet\n",
            "0    Excited to visit #NewYork next week! #travel\n",
            "1  Just finished reading #Python programming book\n",
            "2                 Loving the #sunny weather today\n",
            "3                 Looking forward to the #weekend\n",
            "\n",
            "DataFrame with extracted hashtags:\n",
            "                                            Tweet           Hashtags\n",
            "0    Excited to visit #NewYork next week! #travel  [NewYork, travel]\n",
            "1  Just finished reading #Python programming book           [Python]\n",
            "2                 Loving the #sunny weather today            [sunny]\n",
            "3                 Looking forward to the #weekend          [weekend]\n"
          ]
        }
      ]
    },
    {
      "cell_type": "code",
      "source": [
        "#6\n",
        "import pandas as pd\n",
        "import re\n",
        "\n",
        "data = {'Tweet': ['Excited to visit @NewYork next week! @travel',\n",
        "                  'Just finished reading @Python programming book',\n",
        "                  'Loving the @sunny weather today',\n",
        "                  'Looking forward to the @weekend']}\n",
        "df = pd.DataFrame(data)\n",
        "\n",
        "print(\"Original DataFrame:\")\n",
        "print(df)\n",
        "\n",
        "def extract_mentions(text):\n",
        "    mentions = re.findall(r'@(\\w+)', text)\n",
        "    return mentions\n",
        "\n",
        "df['Mentions'] = df['Tweet'].apply(extract_mentions)\n",
        "\n",
        "print(\"\\nDataFrame with extracted mentions:\")\n",
        "print(df)\n"
      ],
      "metadata": {
        "colab": {
          "base_uri": "https://localhost:8080/"
        },
        "id": "uygHXkf0d7y5",
        "outputId": "aed22097-40d7-4365-8596-2438dadaa42c"
      },
      "execution_count": 6,
      "outputs": [
        {
          "output_type": "stream",
          "name": "stdout",
          "text": [
            "Original DataFrame:\n",
            "                                            Tweet\n",
            "0    Excited to visit @NewYork next week! @travel\n",
            "1  Just finished reading @Python programming book\n",
            "2                 Loving the @sunny weather today\n",
            "3                 Looking forward to the @weekend\n",
            "\n",
            "DataFrame with extracted mentions:\n",
            "                                            Tweet           Mentions\n",
            "0    Excited to visit @NewYork next week! @travel  [NewYork, travel]\n",
            "1  Just finished reading @Python programming book           [Python]\n",
            "2                 Loving the @sunny weather today            [sunny]\n",
            "3                 Looking forward to the @weekend          [weekend]\n"
          ]
        }
      ]
    },
    {
      "cell_type": "code",
      "source": [
        "#7\n",
        "import pandas as pd\n",
        "import re\n",
        "\n",
        "data = {'Text': ['abc123', '456def', 'ghi789', '10jkl']}\n",
        "df = pd.DataFrame(data)\n",
        "\n",
        "print(\"Original DataFrame:\")\n",
        "print(df)\n",
        "\n",
        "def extract_numbers(text):\n",
        "    numbers = re.findall(r'\\d+', text)\n",
        "    return numbers\n",
        "\n",
        "df['Numbers'] = df['Text'].apply(extract_numbers)\n",
        "\n",
        "print(\"\\nDataFrame with extracted numbers:\")\n",
        "print(df)\n"
      ],
      "metadata": {
        "colab": {
          "base_uri": "https://localhost:8080/"
        },
        "id": "JFUAFGooeDLN",
        "outputId": "274f22a0-2098-4666-bb4b-5f96a30290bf"
      },
      "execution_count": 7,
      "outputs": [
        {
          "output_type": "stream",
          "name": "stdout",
          "text": [
            "Original DataFrame:\n",
            "     Text\n",
            "0  abc123\n",
            "1  456def\n",
            "2  ghi789\n",
            "3   10jkl\n",
            "\n",
            "DataFrame with extracted numbers:\n",
            "     Text Numbers\n",
            "0  abc123   [123]\n",
            "1  456def   [456]\n",
            "2  ghi789   [789]\n",
            "3   10jkl    [10]\n"
          ]
        }
      ]
    },
    {
      "cell_type": "code",
      "source": [
        "#8\n",
        "import pandas as pd\n",
        "import re\n",
        "\n",
        "data = {'Text': ['Contact me at 123-456-7890',\n",
        "                 'Phone: (987) 654-3210',\n",
        "                 'Call 555.123.4567 for assistance']}\n",
        "df = pd.DataFrame(data)\n",
        "\n",
        "print(\"Original DataFrame:\")\n",
        "print(df)\n",
        "\n",
        "def extract_phone_numbers(text):\n",
        "    phone_numbers = re.findall(r'\\b\\d{3}[-.\\s]?\\d{3}[-.\\s]?\\d{4}\\b', text)\n",
        "    return phone_numbers\n",
        "\n",
        "df['Phone Numbers'] = df['Text'].apply(extract_phone_numbers)\n",
        "\n",
        "print(\"\\nDataFrame with extracted phone numbers:\")\n",
        "print(df)\n"
      ],
      "metadata": {
        "colab": {
          "base_uri": "https://localhost:8080/"
        },
        "id": "Vk4asWmFeKt5",
        "outputId": "9f05c586-f3cd-44d9-9c13-1d4b077ffc89"
      },
      "execution_count": 8,
      "outputs": [
        {
          "output_type": "stream",
          "name": "stdout",
          "text": [
            "Original DataFrame:\n",
            "                               Text\n",
            "0        Contact me at 123-456-7890\n",
            "1             Phone: (987) 654-3210\n",
            "2  Call 555.123.4567 for assistance\n",
            "\n",
            "DataFrame with extracted phone numbers:\n",
            "                               Text   Phone Numbers\n",
            "0        Contact me at 123-456-7890  [123-456-7890]\n",
            "1             Phone: (987) 654-3210              []\n",
            "2  Call 555.123.4567 for assistance  [555.123.4567]\n"
          ]
        }
      ]
    },
    {
      "cell_type": "code",
      "source": [
        "#9\n",
        "import pandas as pd\n",
        "import re\n",
        "\n",
        "data = {'Text': ['The year 2022 is coming soon',\n",
        "                 'It happened in 1998',\n",
        "                 'The event took place in 1850 and 1900',\n",
        "                 'Future plans for 2205']}\n",
        "df = pd.DataFrame(data)\n",
        "\n",
        "print(\"Original DataFrame:\")\n",
        "print(df)\n",
        "\n",
        "def extract_years(text):\n",
        "    years = re.findall(r'\\b(18\\d{2}|19\\d{2}|20\\d{2}|21\\d{2})\\b', text)\n",
        "    valid_years = [year for year in years if 1800 <= int(year) <= 2200]\n",
        "    return valid_years\n",
        "\n",
        "df['Years'] = df['Text'].apply(extract_years)\n",
        "\n",
        "print(\"\\nDataFrame with extracted years:\")\n",
        "print(df)\n"
      ],
      "metadata": {
        "colab": {
          "base_uri": "https://localhost:8080/"
        },
        "id": "8fB0uohKeRH3",
        "outputId": "0b111967-77ae-490f-9722-44668993f644"
      },
      "execution_count": 9,
      "outputs": [
        {
          "output_type": "stream",
          "name": "stdout",
          "text": [
            "Original DataFrame:\n",
            "                                    Text\n",
            "0           The year 2022 is coming soon\n",
            "1                    It happened in 1998\n",
            "2  The event took place in 1850 and 1900\n",
            "3                  Future plans for 2205\n",
            "\n",
            "DataFrame with extracted years:\n",
            "                                    Text         Years\n",
            "0           The year 2022 is coming soon        [2022]\n",
            "1                    It happened in 1998        [1998]\n",
            "2  The event took place in 1850 and 1900  [1850, 1900]\n",
            "3                  Future plans for 2205            []\n"
          ]
        }
      ]
    },
    {
      "cell_type": "code",
      "source": [
        "#10\n",
        "import pandas as pd\n",
        "import re\n",
        "\n",
        "data = {'Text': ['Hello! How are you?',\n",
        "                 'I have $100 in my wallet.',\n",
        "                 'This is a #hashtag',\n",
        "                 'The temperature is 25°C']}\n",
        "df = pd.DataFrame(data)\n",
        "\n",
        "print(\"Original DataFrame:\")\n",
        "print(df)\n",
        "\n",
        "def extract_non_alphanumeric(text):\n",
        "    non_alphanumeric = re.findall(r'[^a-zA-Z0-9\\s]', text)\n",
        "    return non_alphanumeric\n",
        "\n",
        "df['Non-Alphanumeric'] = df['Text'].apply(extract_non_alphanumeric)\n",
        "\n",
        "print(\"\\nDataFrame with extracted non-alphanumeric characters:\")\n",
        "print(df)\n"
      ],
      "metadata": {
        "colab": {
          "base_uri": "https://localhost:8080/"
        },
        "id": "eGD7c7f2eYKx",
        "outputId": "3741b443-a637-4a3f-ea5e-8efca9b707d2"
      },
      "execution_count": 10,
      "outputs": [
        {
          "output_type": "stream",
          "name": "stdout",
          "text": [
            "Original DataFrame:\n",
            "                        Text\n",
            "0        Hello! How are you?\n",
            "1  I have $100 in my wallet.\n",
            "2         This is a #hashtag\n",
            "3    The temperature is 25°C\n",
            "\n",
            "DataFrame with extracted non-alphanumeric characters:\n",
            "                        Text Non-Alphanumeric\n",
            "0        Hello! How are you?           [!, ?]\n",
            "1  I have $100 in my wallet.           [$, .]\n",
            "2         This is a #hashtag              [#]\n",
            "3    The temperature is 25°C              [°]\n"
          ]
        }
      ]
    }
  ]
}